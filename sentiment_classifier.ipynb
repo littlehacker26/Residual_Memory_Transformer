{
 "cells": [
  {
   "cell_type": "code",
   "execution_count": 1,
   "id": "385ab244-3fae-4e2a-91bf-b21afcd9d1bd",
   "metadata": {},
   "outputs": [
    {
     "name": "stderr",
     "output_type": "stream",
     "text": [
      "/home/zhanghanqing/anaconda3/envs/py39/lib/python3.9/site-packages/tqdm/auto.py:22: TqdmWarning: IProgress not found. Please update jupyter and ipywidgets. See https://ipywidgets.readthedocs.io/en/stable/user_install.html\n",
      "  from .autonotebook import tqdm as notebook_tqdm\n",
      "/home/zhanghanqing/anaconda3/envs/py39/lib/python3.9/site-packages/torch/cuda/__init__.py:508: UserWarning: Can't initialize NVML\n",
      "  warnings.warn(\"Can't initialize NVML\")\n",
      "No model was supplied, defaulted to distilbert-base-uncased-finetuned-sst-2-english and revision af0f99b (https://huggingface.co/distilbert-base-uncased-finetuned-sst-2-english).\n",
      "Using a pipeline without specifying a model name and revision in production is not recommended.\n"
     ]
    }
   ],
   "source": [
    "import pandas as pd\n",
    "import transformers\n",
    "from transformers import pipeline, set_seed\n",
    "from eval_metric import *\n",
    "import torch \n",
    "\n",
    "def distinctness(generations_data):\n",
    "    dist1, dist2, dist3 = [], [], []\n",
    "    total_words = 0\n",
    "    unigrams, bigrams, trigrams = set(), set(), set()\n",
    "    \n",
    "    for gen in generations_data:\n",
    "            o = gen.split(' ')\n",
    "            total_words += len(o)\n",
    "            unigrams.update(o)\n",
    "            for i in range(len(o) - 1):\n",
    "                bigrams.add(o[i] + '_' + o[i+1])\n",
    "            for i in range(len(o) - 2):\n",
    "                trigrams.add(o[i] + '_' + o[i+1] + '_' + o[i+2])\n",
    "                \n",
    "    if total_words == 0:\n",
    "        return 0.0, 0.0, 0.0\n",
    "    \n",
    "    dist1 = len(unigrams) / total_words\n",
    "    dist2 = len(bigrams) / total_words\n",
    "    dist3 = len(trigrams) / total_words\n",
    "    \n",
    "    return dist1, dist2, dist3\n",
    "\n",
    "classifier = pipeline('sentiment-analysis')"
   ]
  },
  {
   "cell_type": "code",
   "execution_count": 3,
   "id": "de72917e-2eac-4e3c-9e0e-bb77190aded4",
   "metadata": {
    "tags": []
   },
   "outputs": [],
   "source": [
    "data = pd.read_csv(\"./eval/neu_pos_result_20_seed_1.csv\")"
   ]
  },
  {
   "cell_type": "code",
   "execution_count": 4,
   "id": "bdb6d1ab-0024-42c8-8146-90cd0c810515",
   "metadata": {},
   "outputs": [
    {
     "name": "stdout",
     "output_type": "stream",
     "text": [
      "5000\n"
     ]
    }
   ],
   "source": [
    "text_ = data[\"text\"].tolist()#[-2500:]\n",
    "print(len(text_))"
   ]
  },
  {
   "cell_type": "code",
   "execution_count": 5,
   "id": "81e0d8ec-9da7-44da-afe8-4513bf425e29",
   "metadata": {},
   "outputs": [
    {
     "name": "stdout",
     "output_type": "stream",
     "text": [
      "4881 5000 0.9762\n"
     ]
    }
   ],
   "source": [
    "res_ = classifier(text_)\n",
    "count = 0\n",
    "for a in res_:\n",
    "    if a[\"label\"] == \"POSITIVE\":\n",
    "        count+=1\n",
    "print(count,len(text_),count/len(text_))"
   ]
  },
  {
   "cell_type": "code",
   "execution_count": 8,
   "id": "9912ba42-2613-4626-9390-ab22017936f3",
   "metadata": {},
   "outputs": [],
   "source": [
    "from eval_metric import *\n",
    "\n",
    "gts={}\n",
    "for index,  d in enumerate(text_):\n",
    "    gts[index] = [d]\n",
    "    \n",
    "ppls = evaluator_ppl_all(gts, \"/home2/xxx/pretrained_model/gpt2/large\")"
   ]
  },
  {
   "cell_type": "code",
   "execution_count": 2,
   "id": "ea66fc58-26c2-4d1a-b65c-ea71e53d3141",
   "metadata": {},
   "outputs": [
    {
     "name": "stdout",
     "output_type": "stream",
     "text": [
      "1764 2500 0.7056\n",
      "4892 5000 0.9784\n",
      "average ppl is: 41.772421006310736\n",
      "0.1421707980999632 0.5522540303354035 0.7854913961166338\n",
      "#########################\n",
      "1722 2500 0.6888\n",
      "4885 5000 0.977\n",
      "average ppl is: 41.759775576446316\n",
      "0.1427256431374449 0.5546303473668911 0.7876859163800204\n",
      "#########################\n"
     ]
    }
   ],
   "source": [
    "data = pd.read_csv(\"./eval/attribute/neg_pos_result_20_seed_41.csv\")\n",
    "\n",
    "text_ = data[\"text\"].tolist()\n",
    "\n",
    "res_ = classifier(text_)\n",
    "count = 0\n",
    "for a in res_:\n",
    "    if a[\"label\"] == \"POSITIVE\":\n",
    "        count+=1\n",
    "print(count,len(text_),count/len(text_))\n",
    "\n",
    "\n",
    "data = pd.read_csv(\"./eval/attribute/neu_pos_result_20_seed_41.csv\")\n",
    "\n",
    "text = data[\"text\"].tolist()\n",
    "\n",
    "res_ = classifier(text)\n",
    "count = 0\n",
    "for a in res_:\n",
    "    if a[\"label\"] == \"POSITIVE\":\n",
    "        count+=1\n",
    "print(count,len(text),count/len(text))\n",
    "\n",
    "text = text_ + text\n",
    "gts={}\n",
    "for index,  d in enumerate(text):\n",
    "    gts[index] = [d]\n",
    "ppls = evaluator_ppl_all(gts, \"/home2/xxx/pretrained_model/gpt2/large\")\n",
    "print(\"average ppl is:\",ppls)\n",
    "\n",
    "text = [i.replace('\\n\\n',' ') for i in text]\n",
    "dist1, dist2, dist3 = distinctness(text)\n",
    "print(dist1, dist2, dist3)\n",
    "\n",
    "print(\"#########################\")\n",
    "data = pd.read_csv(\"./eval/attribute/neg_pos_result_20_seed_42.csv\")\n",
    "\n",
    "text_ = data[\"text\"].tolist()\n",
    "\n",
    "res_ = classifier(text_)\n",
    "count = 0\n",
    "for a in res_:\n",
    "    if a[\"label\"] == \"POSITIVE\":\n",
    "        count+=1\n",
    "print(count,len(text_),count/len(text_))\n",
    "\n",
    "\n",
    "data = pd.read_csv(\"./eval/attribute/neu_pos_result_20_seed_42.csv\")\n",
    "\n",
    "text = data[\"text\"].tolist()\n",
    "\n",
    "res_ = classifier(text)\n",
    "count = 0\n",
    "for a in res_:\n",
    "    if a[\"label\"] == \"POSITIVE\":\n",
    "        count+=1\n",
    "print(count,len(text),count/len(text))\n",
    "\n",
    "text = text_ + text\n",
    "gts={}\n",
    "for index,  d in enumerate(text):\n",
    "    gts[index] = [d]\n",
    "ppls = evaluator_ppl_all(gts, \"/home2/xxx/pretrained_model/gpt2/large\")\n",
    "print(\"average ppl is:\",ppls)\n",
    "\n",
    "text = [i.replace('\\n\\n',' ') for i in text]\n",
    "dist1, dist2, dist3 = distinctness(text)\n",
    "print(dist1, dist2, dist3)\n",
    "\n",
    "print(\"#########################\")"
   ]
  },
  {
   "cell_type": "code",
   "execution_count": null,
   "id": "f39acf67-9419-45c1-bd07-9207d24839b2",
   "metadata": {},
   "outputs": [],
   "source": []
  }
 ],
 "metadata": {
  "kernelspec": {
   "display_name": "Python [conda env:py39]",
   "language": "python",
   "name": "conda-env-py39-py"
  },
  "language_info": {
   "codemirror_mode": {
    "name": "ipython",
    "version": 3
   },
   "file_extension": ".py",
   "mimetype": "text/x-python",
   "name": "python",
   "nbconvert_exporter": "python",
   "pygments_lexer": "ipython3",
   "version": "3.9.13"
  }
 },
 "nbformat": 4,
 "nbformat_minor": 5
}
