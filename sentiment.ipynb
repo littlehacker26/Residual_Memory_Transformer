{
 "cells": [
  {
   "cell_type": "code",
   "execution_count": 1,
   "id": "385ab244-3fae-4e2a-91bf-b21afcd9d1bd",
   "metadata": {},
   "outputs": [
    {
     "name": "stderr",
     "output_type": "stream",
     "text": [
      "/home/zhanghanqing/anaconda3/envs/py39/lib/python3.9/site-packages/tqdm/auto.py:22: TqdmWarning: IProgress not found. Please update jupyter and ipywidgets. See https://ipywidgets.readthedocs.io/en/stable/user_install.html\n",
      "  from .autonotebook import tqdm as notebook_tqdm\n",
      "No model was supplied, defaulted to distilbert-base-uncased-finetuned-sst-2-english and revision af0f99b (https://huggingface.co/distilbert-base-uncased-finetuned-sst-2-english).\n",
      "Using a pipeline without specifying a model name and revision in production is not recommended.\n"
     ]
    }
   ],
   "source": [
    "import pandas as pd\n",
    "import transformers\n",
    "from transformers import pipeline, set_seed\n",
    "\n",
    "classifier = pipeline('sentiment-analysis')"
   ]
  },
  {
   "cell_type": "code",
   "execution_count": 2,
   "id": "de72917e-2eac-4e3c-9e0e-bb77190aded4",
   "metadata": {
    "tags": []
   },
   "outputs": [],
   "source": [
    "data = pd.read_csv(\"./eval/generated_result_20_seed_44.csv\")"
   ]
  },
  {
   "cell_type": "code",
   "execution_count": 3,
   "id": "bdb6d1ab-0024-42c8-8146-90cd0c810515",
   "metadata": {},
   "outputs": [
    {
     "name": "stdout",
     "output_type": "stream",
     "text": [
      "5000\n"
     ]
    }
   ],
   "source": [
    "text_ = data[\"text\"].tolist()\n",
    "print(len(text_))"
   ]
  },
  {
   "cell_type": "code",
   "execution_count": 4,
   "id": "81e0d8ec-9da7-44da-afe8-4513bf425e29",
   "metadata": {},
   "outputs": [
    {
     "name": "stdout",
     "output_type": "stream",
     "text": [
      "4509 5000 0.9018\n"
     ]
    }
   ],
   "source": [
    "res_ = classifier(text_)\n",
    "count = 0\n",
    "for a in res_:\n",
    "    if a[\"label\"] == \"POSITIVE\":\n",
    "        count+=1\n",
    "print(count,len(text_),count/len(text_))"
   ]
  },
  {
   "cell_type": "code",
   "execution_count": 5,
   "id": "9912ba42-2613-4626-9390-ab22017936f3",
   "metadata": {},
   "outputs": [],
   "source": [
    "from eval_metric import *\n",
    "\n",
    "gts={}\n",
    "for index,  d in enumerate(text_):\n",
    "    gts[index] = [d]\n",
    "    \n",
    "ppls = evaluator_ppl_all(gts, \"/home2/zhanghanqing/pretrained_model/gpt2/large\")"
   ]
  },
  {
   "cell_type": "code",
   "execution_count": 6,
   "id": "ed6b7ed0-735d-48b2-86e4-0b49b1a33962",
   "metadata": {},
   "outputs": [
    {
     "data": {
      "text/plain": [
       "32.09984828500937"
      ]
     },
     "execution_count": 6,
     "metadata": {},
     "output_type": "execute_result"
    }
   ],
   "source": [
    "ppls"
   ]
  },
  {
   "cell_type": "code",
   "execution_count": null,
   "id": "9407e87a-9838-4000-972c-0f0570e07c63",
   "metadata": {},
   "outputs": [],
   "source": []
  }
 ],
 "metadata": {
  "kernelspec": {
   "display_name": "Python [conda env:py39]",
   "language": "python",
   "name": "conda-env-py39-py"
  },
  "language_info": {
   "codemirror_mode": {
    "name": "ipython",
    "version": 3
   },
   "file_extension": ".py",
   "mimetype": "text/x-python",
   "name": "python",
   "nbconvert_exporter": "python",
   "pygments_lexer": "ipython3",
   "version": "3.9.13"
  }
 },
 "nbformat": 4,
 "nbformat_minor": 5
}
