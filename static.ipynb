{
 "cells": [
  {
   "cell_type": "code",
   "execution_count": 1,
   "id": "0fe4bb29-570a-4570-8adc-bde867921641",
   "metadata": {},
   "outputs": [
    {
     "name": "stderr",
     "output_type": "stream",
     "text": [
      "/home/zhanghanqing/anaconda3/envs/py39/lib/python3.9/site-packages/tqdm/auto.py:22: TqdmWarning: IProgress not found. Please update jupyter and ipywidgets. See https://ipywidgets.readthedocs.io/en/stable/user_install.html\n",
      "  from .autonotebook import tqdm as notebook_tqdm\n"
     ]
    },
    {
     "data": {
      "text/plain": [
       "\u001b[0;31mSignature:\u001b[0m \u001b[0mevaluator_ppl_all\u001b[0m\u001b[0;34m(\u001b[0m\u001b[0mres\u001b[0m\u001b[0;34m,\u001b[0m \u001b[0mplm_model\u001b[0m\u001b[0;34m)\u001b[0m\u001b[0;34m\u001b[0m\u001b[0;34m\u001b[0m\u001b[0m\n",
       "\u001b[0;31mDocstring:\u001b[0m <no docstring>\n",
       "\u001b[0;31mFile:\u001b[0m      ~/CTG/control_gpt/ours/src/eval_metric.py\n",
       "\u001b[0;31mType:\u001b[0m      function\n"
      ]
     },
     "metadata": {},
     "output_type": "display_data"
    }
   ],
   "source": [
    "import os\n",
    "import json\n",
    "import spacy\n",
    "import nltk\n",
    "from nltk.tokenize import sent_tokenize\n",
    "import random\n",
    "from glob import glob\n",
    "from pathlib import Path\n",
    "from multiprocessing import Pool\n",
    "import pandas as pd\n",
    "from utils import *\n",
    "from eval_metric import *\n",
    "?evaluator_ppl_all"
   ]
  },
  {
   "cell_type": "code",
   "execution_count": 2,
   "id": "d2b8a307-2093-43b5-9644-3bfd19700237",
   "metadata": {},
   "outputs": [],
   "source": [
    "result = pd.read_csv(\"./eval/generated_result.csv\")"
   ]
  },
  {
   "cell_type": "code",
   "execution_count": 3,
   "id": "eb1bb572-0ebd-4b3f-a9d9-7393f9a0c2e4",
   "metadata": {},
   "outputs": [],
   "source": [
    "gts = {}\n",
    "for index, row in enumerate(result.itertuples()):\n",
    "    text = row[-2].strip()\n",
    "    text = text.split(\".\")[0]\n",
    "    gts[str(row[1])] =  [text]"
   ]
  },
  {
   "cell_type": "code",
   "execution_count": 4,
   "id": "b1181d80-7dd2-45e3-99db-e83e45f3a24f",
   "metadata": {
    "tags": []
   },
   "outputs": [
    {
     "data": {
      "text/plain": [
       "\u001b[0;31mSignature:\u001b[0m \u001b[0mevaluator_ppl\u001b[0m\u001b[0;34m(\u001b[0m\u001b[0mres\u001b[0m\u001b[0;34m,\u001b[0m \u001b[0mplm_model\u001b[0m\u001b[0;34m)\u001b[0m\u001b[0;34m\u001b[0m\u001b[0;34m\u001b[0m\u001b[0m\n",
       "\u001b[0;31mDocstring:\u001b[0m <no docstring>\n",
       "\u001b[0;31mFile:\u001b[0m      ~/CTG/control_gpt/ours/src/eval_metric.py\n",
       "\u001b[0;31mType:\u001b[0m      function\n"
      ]
     },
     "metadata": {},
     "output_type": "display_data"
    }
   ],
   "source": [
    "?evaluator_ppl"
   ]
  },
  {
   "cell_type": "code",
   "execution_count": 5,
   "id": "754ed31f-815b-4ce9-a716-6dfe9366a26d",
   "metadata": {},
   "outputs": [
    {
     "name": "stdout",
     "output_type": "stream",
     "text": [
      "ppl is: 92.30833333333334\n"
     ]
    },
    {
     "data": {
      "text/plain": [
       "71.30907515684764"
      ]
     },
     "execution_count": 5,
     "metadata": {},
     "output_type": "execute_result"
    }
   ],
   "source": [
    "coverage = evaluator_coverage(gts)\n",
    "print(\"ppl is:\", coverage)\n",
    "ppls = evaluator_ppl_all(gts, \"/home2/zhanghanqing/pretrained_model/gpt2/large\")\n"
   ]
  },
  {
   "cell_type": "code",
   "execution_count": 7,
   "id": "354abdf8-b2d9-4d0a-8f98-dcd9d2d806bc",
   "metadata": {},
   "outputs": [
    {
     "data": {
      "text/plain": [
       "71.30907515684764"
      ]
     },
     "execution_count": 7,
     "metadata": {},
     "output_type": "execute_result"
    }
   ],
   "source": [
    "ppls"
   ]
  },
  {
   "cell_type": "code",
   "execution_count": 33,
   "id": "37d83233-e314-4789-9f33-9c42fdc4b8db",
   "metadata": {},
   "outputs": [
    {
     "data": {
      "text/plain": [
       "71.30907515684764"
      ]
     },
     "execution_count": 33,
     "metadata": {},
     "output_type": "execute_result"
    }
   ],
   "source": [
    "np.nanmean(p)"
   ]
  },
  {
   "cell_type": "code",
   "execution_count": null,
   "id": "82085592-808a-4ecc-a1be-0b0e921f47e9",
   "metadata": {},
   "outputs": [],
   "source": []
  }
 ],
 "metadata": {
  "kernelspec": {
   "display_name": "Python [conda env:py39]",
   "language": "python",
   "name": "conda-env-py39-py"
  },
  "language_info": {
   "codemirror_mode": {
    "name": "ipython",
    "version": 3
   },
   "file_extension": ".py",
   "mimetype": "text/x-python",
   "name": "python",
   "nbconvert_exporter": "python",
   "pygments_lexer": "ipython3",
   "version": "3.9.13"
  }
 },
 "nbformat": 4,
 "nbformat_minor": 5
}
